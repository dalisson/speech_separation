{
 "cells": [
  {
   "cell_type": "code",
   "execution_count": 1,
   "metadata": {},
   "outputs": [],
   "source": [
    "%load_ext autoreload\n",
    "%autoreload 2\n",
    "%matplotlib inline"
   ]
  },
  {
   "cell_type": "code",
   "execution_count": 2,
   "metadata": {},
   "outputs": [],
   "source": [
    "import torch\n",
    "import torch.nn as nn\n",
    "from torch.nn import LSTM\n",
    "import torchaudio\n",
    "import math"
   ]
  },
  {
   "cell_type": "code",
   "execution_count": 3,
   "metadata": {},
   "outputs": [
    {
     "data": {
      "text/plain": [
       "torch.Size([1, 1, 64000])"
      ]
     },
     "execution_count": 3,
     "metadata": {},
     "output_type": "execute_result"
    }
   ],
   "source": [
    "audio_input, s_rate = torchaudio.load('/home/minds/Desktop/test_speech_mix/generated/speaker/id10009/7hpSiT9_gCE/0.wav')\n",
    "audio_input = audio_input.unsqueeze(0)\n",
    "audio_input.shape"
   ]
  },
  {
   "cell_type": "code",
   "execution_count": 4,
   "metadata": {},
   "outputs": [],
   "source": [
    "class BaseRNNBlock(nn.Module):\n",
    "    '''\n",
    "    O bloco impar passa a RNN ao longo da dimensão do tempo, ou seja,\n",
    "    ao longo de R chunks de tamanho K\n",
    "    '''\n",
    "    \n",
    "    def __init__(self, Parameter=128, hidden_size=128, **kwargs):\n",
    "        super(BaseRNNBlock, self).__init__()\n",
    "        self.lstm1 = LSTM(input_size=Parameter, hidden_size=hidden_size, batch_first=True, bidirectional=True, **kwargs)\n",
    "        self.lstm2 = LSTM(input_size=Parameter, hidden_size=hidden_size, batch_first=True, bidirectional=True, **kwargs)\n",
    "        #no paper P\n",
    "        self.P = nn.Linear(hidden_size*2 + Parameter, Parameter)\n",
    "        \n",
    "    def forward(self, x):\n",
    "        outp1, _ = self.lstm1(x)\n",
    "        outp2, _ = self.lstm2(x)\n",
    "        outp = torch.cat((outp1 * outp2, x), dim=-1)\n",
    "        #O tensor volta a NxKxR\n",
    "        return self.P(outp)"
   ]
  },
  {
   "cell_type": "code",
   "execution_count": 5,
   "metadata": {},
   "outputs": [],
   "source": [
    "class RNNBlock(nn.Module):\n",
    "    '''\n",
    "    Contem um bloco par e um bloco impar\n",
    "    '''\n",
    "    \n",
    "    def __init__(self, K, R, hidden_size=128,**kwargs):\n",
    "        super(RNNBlock, self).__init__()\n",
    "        self.oddBlock = BaseRNNBlock(Parameter=K, hidden_size=hidden_size, **kwargs)\n",
    "        self.evenBlock = BaseRNNBlock(Parameter=R, hidden_size=hidden_size, **kwargs)\n",
    "        \n",
    "    def forward(self, x):\n",
    "        outp = self.oddBlock(x)\n",
    "        #skip connection\n",
    "        x += outp\n",
    "        #Tensor NxRxK -> NxKxR\n",
    "        x = torch.transpose(x, 1,-1)\n",
    "        outp = self.evenBlock(x)\n",
    "        #skip connection\n",
    "        x += outp\n",
    "        #Tensor NxKxR -> NxRxK\n",
    "        x = torch.transpose(x, 1,-1)\n",
    "        return x"
   ]
  },
  {
   "cell_type": "code",
   "execution_count": null,
   "metadata": {},
   "outputs": [],
   "source": [
    "class RNNNetwork(nn.Module):\n",
    "    '''\n",
    "    RNN completas\n",
    "    '''\n",
    "    def __init__(self, K, R, C, N=64, depth=6, h_size=128, **kwargs):\n",
    "        super(RNNNetwork, self).__init__()\n",
    "        self.layers = [RNNBlock(K, R, h_size, **kwargs) for _ in range(depth)]\n",
    "        self.activation = torch.nn.PReLU(num_parameters=1, init=0.25)\n",
    "        self.D = nn.Conv2d(R, C*R, kernel_size=1)\n",
    "        self.y = nn.Parameter(torch.zeros((depth, N, C*R, K)))\n",
    "    \n",
    "    def forward(self, x):\n",
    "        for i, layer in enumerate(self.layers):\n",
    "            x = self.activation(layer(x))\n",
    "            self.y[i] = self.D(x)\n",
    "            \n",
    "        return self.y\n",
    "            \n",
    "        "
   ]
  },
  {
   "cell_type": "code",
   "execution_count": null,
   "metadata": {},
   "outputs": [],
   "source": [
    "class FacebookModel(nn.Module):\n",
    "    '''\n",
    "    Modelo completo\n",
    "    '''\n",
    "    def __init__(self, k=179, r=181, p=89, padding=110, l=8, n=64, c=2, **kwargs):\n",
    "        super(FacebookModel, self).__init__()\n",
    "        self.l, self.k, self.p = l, k, p\n",
    "        #padding na esquerda e na direita do tensor\n",
    "        self.padding_left, self.padding_right = p, padding\n",
    "        #E\n",
    "        self.encoder = nn.Conv1d(1, n, kernel_size=l, stride=int(l/2))\n",
    "        #A rede em si\n",
    "        self.RNNNetwork = RNNNetwork(n, k, r, c, **kwargs)\n",
    "        self.decoder = None #falta reconstruir o audio\n",
    "        \n",
    "    def forward(self, x):\n",
    "        processed_audio = self.encoder(x).squeeze(0) # NxT'\n",
    "        processed_audio = sef.chunk(processed_audio #NxRxK\n",
    "        y = self.RNNNetwork(processed_audio)\n",
    "        \n",
    "        \n",
    "        return y\n",
    "    def chunk(self, x):\n",
    "\n",
    "        x = torch.cat((x, torch.zeros(1, self.N, self.paddin_right)), -1)\n",
    "        x = torch.cat((torch.zeros(1, self.N, self.padding_left), x), -1)\n",
    "        return x.unfold(-1, self.K, self.P).squeeze(0)\n",
    "                                    \n",
    "    def overlapandadd(self, x):\n",
    "            res = x.unfold(-2, 181, 181)\n",
    "            a, b, c, d, e = res.shape\n",
    "            ad = torch.zeros((a, b, c, 16308))\n",
    "            for i in range(e):\n",
    "                start, end = i*89, (i*89 + d)\n",
    "                piece = res[...,:,i]\n",
    "                ad[...,start:end] = piece"
   ]
  }
 ],
 "metadata": {
  "kernelspec": {
   "display_name": "Python 3",
   "language": "python",
   "name": "python3"
  },
  "language_info": {
   "codemirror_mode": {
    "name": "ipython",
    "version": 3
   },
   "file_extension": ".py",
   "mimetype": "text/x-python",
   "name": "python",
   "nbconvert_exporter": "python",
   "pygments_lexer": "ipython3",
   "version": "3.7.3"
  }
 },
 "nbformat": 4,
 "nbformat_minor": 4
}
