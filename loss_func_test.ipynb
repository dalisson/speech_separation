{
 "cells": [
  {
   "cell_type": "code",
   "execution_count": 1,
   "metadata": {},
   "outputs": [],
   "source": [
    "import torch"
   ]
  },
  {
   "cell_type": "code",
   "execution_count": 6,
   "metadata": {},
   "outputs": [],
   "source": [
    "y_hat = torch.rand((2,4))\n",
    "y = torch.rand((2,4))"
   ]
  },
  {
   "cell_type": "code",
   "execution_count": 161,
   "metadata": {},
   "outputs": [],
   "source": [
    "def si_snr_2speaker(y_hat, y):\n",
    "    \n",
    "    y_power = torch.pow(y, 2).sum(-1, keepdim=False)\n",
    "    \n",
    "    scale_factor = y_hat@y.t()/y_power\n",
    "\n",
    "    s_target = (torch.pow(y.unsqueeze(1) * scale_factor.t().unsqueeze(-1), 2).sum(-1)).t()\n",
    "\n",
    "    #e_noise\n",
    "    residual = y_hat.unsqueeze(1) - y\n",
    "    residual_norms = torch.pow(residual, 2).sum(-1, keepdim=False)\n",
    "    \n",
    "    temp = (10*(torch.log10(s_target) - torch.log10(residual_norms)))\n",
    "    \n",
    "    loss_one = temp[0,0] + temp[1,1]\n",
    "    loss_two = temp[0,1] + temp[1,0]\n",
    "    maximum_loss = loss_one if loss_one > loss_two else loss_two\n",
    "    \n",
    "    return maximum_loss\n",
    "    "
   ]
  },
  {
   "cell_type": "code",
   "execution_count": 162,
   "metadata": {},
   "outputs": [
    {
     "name": "stdout",
     "output_type": "stream",
     "text": [
      "scale_factor tensor([[1.0502, 1.5522],\n",
      "        [0.3763, 0.6053]])\n",
      "starget tensor([[0.9849, 0.7627],\n",
      "        [0.1264, 0.1160]])\n",
      "tensor([[0.3853, 0.7018],\n",
      "        [0.5830, 0.2953]])\n"
     ]
    }
   ],
   "source": [
    "res = si_snr(y_hat, y)"
   ]
  },
  {
   "cell_type": "code",
   "execution_count": 163,
   "metadata": {},
   "outputs": [
    {
     "data": {
      "text/plain": [
       "tensor(0.0169)"
      ]
     },
     "execution_count": 163,
     "metadata": {},
     "output_type": "execute_result"
    }
   ],
   "source": [
    "res"
   ]
  },
  {
   "cell_type": "code",
   "execution_count": null,
   "metadata": {},
   "outputs": [],
   "source": [
    "#residuals"
   ]
  },
  {
   "cell_type": "code",
   "execution_count": 115,
   "metadata": {},
   "outputs": [
    {
     "data": {
      "text/plain": [
       "(tensor(0.3853), tensor(0.7018))"
      ]
     },
     "execution_count": 115,
     "metadata": {},
     "output_type": "execute_result"
    }
   ],
   "source": [
    "torch.pow(y_hat[0] - y[0], 2).sum(), torch.pow(y_hat[0] - y[1], 2).sum()"
   ]
  },
  {
   "cell_type": "code",
   "execution_count": 116,
   "metadata": {},
   "outputs": [
    {
     "data": {
      "text/plain": [
       "(tensor(0.5830), tensor(0.2953))"
      ]
     },
     "execution_count": 116,
     "metadata": {},
     "output_type": "execute_result"
    }
   ],
   "source": [
    "torch.pow(y_hat[1] - y[0], 2).sum(), torch.pow(y_hat[1] - y[1], 2).sum()"
   ]
  },
  {
   "cell_type": "code",
   "execution_count": 147,
   "metadata": {},
   "outputs": [
    {
     "data": {
      "text/plain": [
       "(tensor([[[ 4.0760,  0.3616],\n",
       "          [-6.6386, -4.0591]]]),\n",
       " torch.Size([2, 1, 2]))"
      ]
     },
     "execution_count": 147,
     "metadata": {},
     "output_type": "execute_result"
    }
   ],
   "source": [
    "res.unsqueeze(0), res.unsqueeze(1).shape"
   ]
  },
  {
   "cell_type": "code",
   "execution_count": 151,
   "metadata": {},
   "outputs": [
    {
     "data": {
      "text/plain": [
       "tensor([[ 4.0760, -6.6386],\n",
       "        [ 0.3616, -4.0591]])"
      ]
     },
     "execution_count": 151,
     "metadata": {},
     "output_type": "execute_result"
    }
   ],
   "source": [
    "res.t()"
   ]
  },
  {
   "cell_type": "code",
   "execution_count": null,
   "metadata": {},
   "outputs": [],
   "source": []
  },
  {
   "cell_type": "code",
   "execution_count": 109,
   "metadata": {},
   "outputs": [
    {
     "data": {
      "text/plain": [
       "(tensor(0.7627), tensor(0.1160))"
      ]
     },
     "execution_count": 109,
     "metadata": {},
     "output_type": "execute_result"
    }
   ],
   "source": [
    "((y[1] * 1.5522)**2).sum(), ((y[1]*0.6053)**2).sum()"
   ]
  },
  {
   "cell_type": "code",
   "execution_count": 108,
   "metadata": {},
   "outputs": [
    {
     "data": {
      "text/plain": [
       "(tensor(0.9848), tensor(0.1264))"
      ]
     },
     "execution_count": 108,
     "metadata": {},
     "output_type": "execute_result"
    }
   ],
   "source": [
    "((y[0] * 1.0502)**2).sum(), ((y[0]*0.3763)**2).sum()"
   ]
  },
  {
   "cell_type": "code",
   "execution_count": 87,
   "metadata": {},
   "outputs": [
    {
     "data": {
      "text/plain": [
       "torch.Size([2, 1, 4])"
      ]
     },
     "execution_count": 87,
     "metadata": {},
     "output_type": "execute_result"
    }
   ],
   "source": [
    "y.unsqueeze(1).shape "
   ]
  },
  {
   "cell_type": "code",
   "execution_count": 35,
   "metadata": {},
   "outputs": [
    {
     "data": {
      "text/plain": [
       "tensor([0.8929, 0.3166])"
      ]
     },
     "execution_count": 35,
     "metadata": {},
     "output_type": "execute_result"
    }
   ],
   "source": [
    "norms =torch.pow(y, 2).sum(-1)\n",
    "norms"
   ]
  },
  {
   "cell_type": "code",
   "execution_count": 36,
   "metadata": {},
   "outputs": [],
   "source": [
    "#primeira parte"
   ]
  },
  {
   "cell_type": "code",
   "execution_count": 63,
   "metadata": {},
   "outputs": [
    {
     "data": {
      "text/plain": [
       "(tensor(0.3360), tensor(0.1916))"
      ]
     },
     "execution_count": 63,
     "metadata": {},
     "output_type": "execute_result"
    }
   ],
   "source": [
    "t_0 = (y[0] * y_hat[1]).sum()\n",
    "t_1 = (y[1] * y_hat[1]).sum()\n",
    "t_0, t_1"
   ]
  },
  {
   "cell_type": "code",
   "execution_count": 66,
   "metadata": {},
   "outputs": [],
   "source": [
    "#residuals"
   ]
  },
  {
   "cell_type": "code",
   "execution_count": 71,
   "metadata": {},
   "outputs": [
    {
     "data": {
      "text/plain": [
       "(tensor(0.3853), tensor(0.5830))"
      ]
     },
     "execution_count": 71,
     "metadata": {},
     "output_type": "execute_result"
    }
   ],
   "source": [
    "dif_0 = torch.pow(y_hat[0] - y[0],2).sum()\n",
    "dif_1 = torch.pow(y_hat[1] - y[0], 2).sum()\n",
    "dif_0, dif_1"
   ]
  },
  {
   "cell_type": "code",
   "execution_count": 45,
   "metadata": {},
   "outputs": [
    {
     "data": {
      "text/plain": [
       "(tensor(0.3763), tensor(1.5522))"
      ]
     },
     "execution_count": 45,
     "metadata": {},
     "output_type": "execute_result"
    }
   ],
   "source": [
    "t_0 = t_0/norms[0]\n",
    "t_1 = t_1/norms[1]\n",
    "t_0, t_1"
   ]
  },
  {
   "cell_type": "code",
   "execution_count": 39,
   "metadata": {},
   "outputs": [
    {
     "data": {
      "text/plain": [
       "(tensor(0.9849), tensor(0.1160))"
      ]
     },
     "execution_count": 39,
     "metadata": {},
     "output_type": "execute_result"
    }
   ],
   "source": [
    "s_0 = t_0 * y[0]\n",
    "s_1 = t_1 * y[1]\n",
    "s_0 = torch.pow(s_0, 2).sum()\n",
    "s_1 = torch.pow(s_1, 2).sum()\n",
    "s_0, s_1"
   ]
  },
  {
   "cell_type": "code",
   "execution_count": 41,
   "metadata": {},
   "outputs": [
    {
     "data": {
      "text/plain": [
       "tensor(0.0169)"
      ]
     },
     "execution_count": 41,
     "metadata": {},
     "output_type": "execute_result"
    }
   ],
   "source": [
    "10*(torch.log10(s_0) - torch.log10(dif_0)) + 10*(torch.log10(s_1) - torch.log10(dif_1))"
   ]
  },
  {
   "cell_type": "code",
   "execution_count": null,
   "metadata": {},
   "outputs": [],
   "source": []
  }
 ],
 "metadata": {
  "kernelspec": {
   "display_name": "Python 3",
   "language": "python",
   "name": "python3"
  },
  "language_info": {
   "codemirror_mode": {
    "name": "ipython",
    "version": 3
   },
   "file_extension": ".py",
   "mimetype": "text/x-python",
   "name": "python",
   "nbconvert_exporter": "python",
   "pygments_lexer": "ipython3",
   "version": "3.7.3"
  }
 },
 "nbformat": 4,
 "nbformat_minor": 4
}
