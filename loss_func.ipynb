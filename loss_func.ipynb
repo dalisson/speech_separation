{
 "cells": [
  {
   "cell_type": "code",
   "execution_count": 2,
   "metadata": {},
   "outputs": [],
   "source": [
    "import torch"
   ]
  },
  {
   "cell_type": "code",
   "execution_count": 3,
   "metadata": {},
   "outputs": [],
   "source": [
    "def calc_sdr_torch(estimation, origin):\n",
    "    \"\"\"\n",
    "    batch-wise SDR caculation for one audio file on pytorch Variables.\n",
    "    estimation: (batch, nsample)\n",
    "    origin: (batch, nsample)\n",
    "    mask: optional, (batch, nsample), binary\n",
    "    \"\"\"\n",
    "    \n",
    "    origin_power = torch.pow(origin, 2).sum(1, keepdim=True) + 1e-8  # (batch, 1)\n",
    "    \n",
    "    scale = torch.sum(origin*estimation, 1, keepdim=True) / origin_power  # (batch, 1)\n",
    "\n",
    "    est_true = scale * origin  # (batch, nsample)\n",
    "    est_res = estimation - est_true  # (batch, nsample)\n",
    "    \n",
    "    true_power = torch.pow(est_true, 2).sum(1)\n",
    "    res_power = torch.pow(est_res, 2).sum(1)\n",
    "    \n",
    "    return 10*torch.log10(true_power) - 10*torch.log10(res_power)  # (batch, 1)"
   ]
  },
  {
   "cell_type": "code",
   "execution_count": 4,
   "metadata": {},
   "outputs": [],
   "source": [
    "t1 = torch.rand((1,64000))\n",
    "t2 = torch.rand((1,64000))"
   ]
  },
  {
   "cell_type": "code",
   "execution_count": 5,
   "metadata": {},
   "outputs": [
    {
     "name": "stdout",
     "output_type": "stream",
     "text": [
      "torch.Size([1, 1])\n",
      "torch.Size([1, 1])\n"
     ]
    },
    {
     "data": {
      "text/plain": [
       "tensor([1.1156])"
      ]
     },
     "execution_count": 5,
     "metadata": {},
     "output_type": "execute_result"
    }
   ],
   "source": [
    "calc_sdr_torch(t1, t2)"
   ]
  },
  {
   "cell_type": "code",
   "execution_count": 6,
   "metadata": {},
   "outputs": [],
   "source": [
    "def si_snr(y_hat, y):\n",
    "    \n",
    "    y_power = torch.pow(y, 2).sum(-1, keepdim=False) + 1e-8\n",
    "    \n",
    "    scale_factor = y_hat@y.t()/y_power\n",
    "    \n",
    "    residual = y_hat.unsqueeze(1) - y\n",
    "    residual_norms = torch.pow(residual).sum(-1, keepdim=False)\n",
    "    \n",
    "    temp = y_hat@y.t()/y_power\n",
    "    \n",
    "    s_target = y.unsqueeze(1) * temp.t().unsqueeze(-1)\n",
    "    \n",
    "    e_noise = torch.pow(y_hat.unsqueeze(1) - y, 2).sum(-1)\n",
    "    \n",
    "    s = torch.pow(s_target, 2).sum(-1)\n",
    "    \n",
    "    temp = 10*(torch.log10(s) - torch.log10(e_noise))\n",
    "    temp = temp.sum(-1)\n",
    "    \n",
    "    return torch.max(temp)"
   ]
  },
  {
   "cell_type": "code",
   "execution_count": 3,
   "metadata": {},
   "outputs": [],
   "source": [
    "y = torch.rand((2,4))\n",
    "y_hat = torch.rand((2,4))"
   ]
  },
  {
   "cell_type": "code",
   "execution_count": 4,
   "metadata": {},
   "outputs": [
    {
     "data": {
      "text/plain": [
       "(tensor([[0.0234, 0.8795, 0.9800, 0.1565],\n",
       "         [0.2720, 0.2555, 0.4848, 0.8412]]),\n",
       " tensor([[0.8396, 0.1334, 0.3134, 0.9723],\n",
       "         [0.0495, 0.5926, 0.2339, 0.2166]]))"
      ]
     },
     "execution_count": 4,
     "metadata": {},
     "output_type": "execute_result"
    }
   ],
   "source": [
    "y, y_hat"
   ]
  },
  {
   "cell_type": "code",
   "execution_count": 67,
   "metadata": {},
   "outputs": [
    {
     "data": {
      "text/plain": [
       "tensor([1.7590, 1.0820])"
      ]
     },
     "execution_count": 67,
     "metadata": {},
     "output_type": "execute_result"
    }
   ],
   "source": [
    "y_power = torch.pow(y,2).sum(-1, keepdim=False)\n",
    "y_power"
   ]
  },
  {
   "cell_type": "code",
   "execution_count": 66,
   "metadata": {},
   "outputs": [
    {
     "data": {
      "text/plain": [
       "tensor([[0.5963, 1.2324],\n",
       "        [0.7854, 0.4605]])"
      ]
     },
     "execution_count": 66,
     "metadata": {},
     "output_type": "execute_result"
    }
   ],
   "source": [
    "y_hat@y.t()"
   ]
  },
  {
   "cell_type": "code",
   "execution_count": 70,
   "metadata": {},
   "outputs": [
    {
     "data": {
      "text/plain": [
       "tensor([[0.5511, 1.1390],\n",
       "        [0.7259, 0.4256]])"
      ]
     },
     "execution_count": 70,
     "metadata": {},
     "output_type": "execute_result"
    }
   ],
   "source": [
    "y_hat@y.t()/1.082"
   ]
  },
  {
   "cell_type": "code",
   "execution_count": 73,
   "metadata": {},
   "outputs": [
    {
     "data": {
      "text/plain": [
       "tensor([[0.3390, 1.1390],\n",
       "        [0.4465, 0.4256]])"
      ]
     },
     "execution_count": 73,
     "metadata": {},
     "output_type": "execute_result"
    }
   ],
   "source": [
    "temp = y_hat@y.t()/y_power\n",
    "temp"
   ]
  },
  {
   "cell_type": "code",
   "execution_count": 85,
   "metadata": {},
   "outputs": [
    {
     "data": {
      "text/plain": [
       "(tensor([[0.3390, 1.1390],\n",
       "         [0.4465, 0.4256]]),\n",
       " tensor([[0.0234, 0.8795, 0.9800, 0.1565],\n",
       "         [0.2720, 0.2555, 0.4848, 0.8412]]))"
      ]
     },
     "execution_count": 85,
     "metadata": {},
     "output_type": "execute_result"
    }
   ],
   "source": [
    "temp, y"
   ]
  },
  {
   "cell_type": "code",
   "execution_count": 117,
   "metadata": {},
   "outputs": [
    {
     "data": {
      "text/plain": [
       "tensor([[[0.0079, 0.2982, 0.3322, 0.0530],\n",
       "         [0.0105, 0.3927, 0.4376, 0.0699]],\n",
       "\n",
       "        [[0.3098, 0.2910, 0.5522, 0.9582],\n",
       "         [0.1158, 0.1087, 0.2063, 0.3580]]])"
      ]
     },
     "execution_count": 117,
     "metadata": {},
     "output_type": "execute_result"
    }
   ],
   "source": [
    "s_target = y.unsqueeze(1) * temp.t().unsqueeze(-1)\n",
    "s_target"
   ]
  },
  {
   "cell_type": "code",
   "execution_count": 127,
   "metadata": {},
   "outputs": [],
   "source": [
    "tempp = torch.log10(torch.pow(s_target, 2).sum(-1))"
   ]
  },
  {
   "cell_type": "code",
   "execution_count": 125,
   "metadata": {},
   "outputs": [
    {
     "data": {
      "text/plain": [
       "tensor(0.3507)"
      ]
     },
     "execution_count": 125,
     "metadata": {},
     "output_type": "execute_result"
    }
   ],
   "source": [
    "torch.pow(s_target[0][1], 2).sum(-1)"
   ]
  },
  {
   "cell_type": "code",
   "execution_count": 96,
   "metadata": {},
   "outputs": [
    {
     "data": {
      "text/plain": [
       "(tensor([0.0079, 0.2982, 0.3322, 0.0530]),\n",
       " tensor([0.0105, 0.3927, 0.4376, 0.0699]))"
      ]
     },
     "execution_count": 96,
     "metadata": {},
     "output_type": "execute_result"
    }
   ],
   "source": [
    "y[0] * 0.3390, y[0] * 0.4465"
   ]
  },
  {
   "cell_type": "code",
   "execution_count": 100,
   "metadata": {},
   "outputs": [
    {
     "data": {
      "text/plain": [
       "(tensor([[0.8396, 0.1334, 0.3134, 0.9723],\n",
       "         [0.0495, 0.5926, 0.2339, 0.2166]]),\n",
       " tensor([[0.0234, 0.8795, 0.9800, 0.1565],\n",
       "         [0.2720, 0.2555, 0.4848, 0.8412]]))"
      ]
     },
     "execution_count": 100,
     "metadata": {},
     "output_type": "execute_result"
    }
   ],
   "source": [
    "y_hat, y"
   ]
  },
  {
   "cell_type": "code",
   "execution_count": 102,
   "metadata": {},
   "outputs": [
    {
     "data": {
      "text/plain": [
       "tensor([[[ 0.8162, -0.7461, -0.6666,  0.8158],\n",
       "         [ 0.5676, -0.1221, -0.1714,  0.1311]],\n",
       "\n",
       "        [[ 0.0261, -0.2870, -0.7461,  0.0601],\n",
       "         [-0.2225,  0.3371, -0.2510, -0.6246]]])"
      ]
     },
     "execution_count": 102,
     "metadata": {},
     "output_type": "execute_result"
    }
   ],
   "source": [
    "y_hat.unsqueeze(1) - y"
   ]
  },
  {
   "cell_type": "code",
   "execution_count": 128,
   "metadata": {},
   "outputs": [],
   "source": [
    "tempp2 = torch.log10(torch.pow(y_hat.unsqueeze(1) - y, 2).sum(-1))"
   ]
  },
  {
   "cell_type": "code",
   "execution_count": 116,
   "metadata": {},
   "outputs": [
    {
     "data": {
      "text/plain": [
       "tensor(0.6433)"
      ]
     },
     "execution_count": 116,
     "metadata": {},
     "output_type": "execute_result"
    }
   ],
   "source": [
    "torch.pow((y_hat.unsqueeze(1) - y)[1][0], 2).sum(-1)"
   ]
  },
  {
   "cell_type": "code",
   "execution_count": 111,
   "metadata": {},
   "outputs": [
    {
     "data": {
      "text/plain": [
       "tensor([ 0.5676, -0.1221, -0.1714,  0.1311])"
      ]
     },
     "execution_count": 111,
     "metadata": {},
     "output_type": "execute_result"
    }
   ],
   "source": [
    "(y_hat.unsqueeze(1) - y)[0][1]"
   ]
  },
  {
   "cell_type": "code",
   "execution_count": 110,
   "metadata": {},
   "outputs": [
    {
     "data": {
      "text/plain": [
       "0.66618244"
      ]
     },
     "execution_count": 110,
     "metadata": {},
     "output_type": "execute_result"
    }
   ],
   "source": [
    "0.8162**2"
   ]
  },
  {
   "cell_type": "code",
   "execution_count": 113,
   "metadata": {},
   "outputs": [
    {
     "data": {
      "text/plain": [
       "0.32001649"
      ]
     },
     "execution_count": 113,
     "metadata": {},
     "output_type": "execute_result"
    }
   ],
   "source": [
    "0.5657**2"
   ]
  },
  {
   "cell_type": "code",
   "execution_count": 131,
   "metadata": {},
   "outputs": [
    {
     "data": {
      "text/plain": [
       "tensor(15.2612)"
      ]
     },
     "execution_count": 131,
     "metadata": {},
     "output_type": "execute_result"
    }
   ],
   "source": [
    "torch.max((10*(temp - tempp2)).sum(-1))"
   ]
  },
  {
   "cell_type": "code",
   "execution_count": 132,
   "metadata": {},
   "outputs": [
    {
     "data": {
      "text/plain": [
       "tensor([15.2612, 12.7388])"
      ]
     },
     "execution_count": 132,
     "metadata": {},
     "output_type": "execute_result"
    }
   ],
   "source": [
    "(10*(temp - tempp2)).sum(-1)"
   ]
  },
  {
   "cell_type": "code",
   "execution_count": null,
   "metadata": {},
   "outputs": [],
   "source": []
  }
 ],
 "metadata": {
  "kernelspec": {
   "display_name": "Python 3",
   "language": "python",
   "name": "python3"
  },
  "language_info": {
   "codemirror_mode": {
    "name": "ipython",
    "version": 3
   },
   "file_extension": ".py",
   "mimetype": "text/x-python",
   "name": "python",
   "nbconvert_exporter": "python",
   "pygments_lexer": "ipython3",
   "version": "3.7.3"
  }
 },
 "nbformat": 4,
 "nbformat_minor": 4
}
