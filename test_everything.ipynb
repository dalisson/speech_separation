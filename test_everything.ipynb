{
 "cells": [
  {
   "cell_type": "code",
   "execution_count": 1,
   "metadata": {},
   "outputs": [],
   "source": [
    "%load_ext autoreload\n",
    "%autoreload 2\n",
    "%matplotlib inline"
   ]
  },
  {
   "cell_type": "code",
   "execution_count": 2,
   "metadata": {},
   "outputs": [],
   "source": [
    "import torch\n",
    "import torch.nn as nn\n",
    "from torch.nn import LSTM\n",
    "import torchaudio\n",
    "import math"
   ]
  },
  {
   "cell_type": "code",
   "execution_count": 3,
   "metadata": {},
   "outputs": [],
   "source": [
    "#network parameters set @ facebook\n",
    "L = 8"
   ]
  },
  {
   "cell_type": "code",
   "execution_count": 4,
   "metadata": {},
   "outputs": [
    {
     "data": {
      "text/plain": [
       "torch.Size([1, 1, 64000])"
      ]
     },
     "execution_count": 4,
     "metadata": {},
     "output_type": "execute_result"
    }
   ],
   "source": [
    "#real audio example\n",
    "audio_input, s_rate = torchaudio.load('/home/minds/Desktop/test_speech_mix/generated/speaker/id10009/7hpSiT9_gCE/0.wav', normalization=True)\n",
    "audio_input = audio_input.unsqueeze(0)\n",
    "audio_input.shape"
   ]
  },
  {
   "cell_type": "code",
   "execution_count": 5,
   "metadata": {},
   "outputs": [],
   "source": [
    "class BaseRNNBlock(nn.Module):\n",
    "    '''\n",
    "    O bloco impar passa a RNN ao longo da dimensão do tempo, ou seja,\n",
    "    ao longo de R chunks de tamanho K\n",
    "    '''\n",
    "    \n",
    "    def __init__(self, Parameter=128, hidden_size=128, **kwargs):\n",
    "        super(BaseRNNBlock, self).__init__()\n",
    "        self.lstm1 = LSTM(input_size=Parameter, hidden_size=hidden_size, batch_first=True, bidirectional=True, **kwargs)\n",
    "        self.lstm2 = LSTM(input_size=Parameter, hidden_size=hidden_size, batch_first=True, bidirectional=True, **kwargs)\n",
    "        #no paper P\n",
    "        self.P = nn.Linear(hidden_size*2 + Parameter, Parameter)\n",
    "        \n",
    "    def forward(self, x):\n",
    "        outp1, _ = self.lstm1(x)\n",
    "        outp2, _ = self.lstm2(x)\n",
    "        outp = torch.cat((outp1 * outp2, x), dim=-1)\n",
    "        #O tensor volta a NxKxR\n",
    "        return self.P(outp)"
   ]
  },
  {
   "cell_type": "code",
   "execution_count": 6,
   "metadata": {},
   "outputs": [],
   "source": [
    "class RNNBlock(nn.Module):\n",
    "    '''\n",
    "    Contem um bloco par e um bloco impar\n",
    "    '''\n",
    "    \n",
    "    def __init__(self, K, R, hidden_size=128,**kwargs):\n",
    "        super(RNNBlock, self).__init__()\n",
    "        self.oddBlock = BaseRNNBlock(Parameter=K, hidden_size=hidden_size, **kwargs)\n",
    "        self.evenBlock = BaseRNNBlock(Parameter=R, hidden_size=hidden_size, **kwargs)\n",
    "        \n",
    "    def forward(self, x):\n",
    "        outp = self.oddBlock(x)\n",
    "        #skip connection\n",
    "        x += outp\n",
    "        #Tensor NxRxK -> NxKxR\n",
    "        x = torch.transpose(x, 1,-1)\n",
    "        outp = self.evenBlock(x)\n",
    "        #skip connection\n",
    "        x += outp\n",
    "        #Tensor NxKxR -> NxRxK\n",
    "        x = torch.transpose(x, 1,-1)\n",
    "        return x"
   ]
  },
  {
   "cell_type": "code",
   "execution_count": 7,
   "metadata": {},
   "outputs": [],
   "source": [
    "class Facebookmodel(nn.Module):\n",
    "    '''\n",
    "    Modelo do facebook\n",
    "    '''\n",
    "    \n",
    "    def __init__(self, n, k, r, c=2, l=8, b=1, **kwargs):\n",
    "        super(Facebookmodel, self).__init__()\n",
    "        assert l % 2 == 0, 'l must be even'\n",
    "        self.c = c\n",
    "        self.encoder = nn.Conv1d(1, n, l, int(l/2))\n",
    "        self.rnnblocks = [RNNBlock(k, r, **kwargs) for _ in range(b)]\n",
    "        self.d = nn.Conv1d(r, c*r, kernel_size=1)\n",
    "        self.activation = torch.nn.PReLU(num_parameters=1, init=0.25)\n",
    "        self.decoder = nn.ConvTranspose1d(n, 1, kernel_size=l, stride=int(l/2))\n",
    "        \n",
    "        #teste de decode com uma convolucao 2d\n",
    "        self.decoder2d = nn.ConvTranspose2d(n, 1, kernel_size=(1,l), stride=(1,int(l/2)))\n",
    "    \n",
    "    def forward(self, x):\n",
    "        encoded = self.encoder(x).squeeze(0)\n",
    "        chunks = self.chunk(encoded)\n",
    "        outps = list()\n",
    "        for block in self.rnnblocks:\n",
    "            chunks = block(chunks)\n",
    "            res = self.d(self.activation(chunks))\n",
    "            outps.append(res)\n",
    "        \n",
    "        outps = self.apply_overlap_and_add(outps)\n",
    "        return self.decode2d(outps)\n",
    "        #return self.decode(o1, o2)\n",
    "    \n",
    "    def chunk(self, x):\n",
    "        x = torch.cat((x, torch.zeros((64, 110))), dim=-1)\n",
    "        x = torch.cat((torch.zeros((64, 89)), x), dim=-1)\n",
    "        \n",
    "        return x.unfold(-1, 178, 89)\n",
    "        \n",
    "    def decode2d(self, x):\n",
    "        '''\n",
    "        Testar o decode com uma convolucao de 2 dimensoes, audios das c fontes\n",
    "        juntos no mesmo tensor\n",
    "        '''\n",
    "        \n",
    "        restored = []\n",
    "        for a in x:\n",
    "            a = a[...,89:-110].unsqueeze(0)\n",
    "            d = self.decoder2d(a).squeeze(1)\n",
    "            restored.append(d)\n",
    "        \n",
    "        return restored\n",
    "    \n",
    "    def decode(self, x):\n",
    "        '''\n",
    "        Decode de separacao com convolucao 1d, os audios das c fontes diferentes sao separados\n",
    "        previamente\n",
    "        '''\n",
    "        restored = [[] for _ in range(self.c)]\n",
    "        \n",
    "        for a in x:\n",
    "            for i in range(self.c):\n",
    "                t = a[:,i,89:-110].unsqueeze(0)\n",
    "                t = self.decoder(t)\n",
    "                restored[i].append(t.squeeze(0))\n",
    "        \n",
    "        return restored\n",
    "    \n",
    "    def apply_overlap_and_add(self, x):\n",
    "        overlapped_added = list()\n",
    "        for el in x:\n",
    "            result = self.overlap_and_add(el)\n",
    "            overlapped_added.append(result)\n",
    "            \n",
    "        return overlapped_added\n",
    "    \n",
    "    def overlap_and_add(self, x):\n",
    "        '''\n",
    "        Faz overlap and add usando pytorch fold\n",
    "        '''\n",
    "        x = torch.transpose(x, -2, -1)\n",
    "        result = torch.nn.functional.fold(x, (self.c, 16198) ,kernel_size=(1,178), stride=(1,89))\n",
    "        return result.squeeze(1)"
   ]
  },
  {
   "cell_type": "code",
   "execution_count": 19,
   "metadata": {},
   "outputs": [],
   "source": [
    "def si_snr_2speaker(y_hat, y):\n",
    "    \n",
    "    y_power = torch.pow(y, 2).sum(-1, keepdim=False)\n",
    "    \n",
    "    scale_factor = y_hat@y.t()/y_power\n",
    "\n",
    "    s_target = (torch.pow(y.unsqueeze(1) * scale_factor.t().unsqueeze(-1), 2).sum(-1)).t()\n",
    "\n",
    "    #e_noise\n",
    "    residual = y_hat.unsqueeze(1) - y\n",
    "    residual_norms = torch.pow(residual, 2).sum(-1, keepdim=False)\n",
    "    \n",
    "    temp = (10*(torch.log10(s_target) - torch.log10(residual_norms)))\n",
    "    \n",
    "    loss_one = temp[0,0] + temp[1,1]\n",
    "    loss_two = temp[0,1] + temp[1,0]\n",
    "    maximum_loss = loss_one if loss_one > loss_two else loss_two\n",
    "    \n",
    "    return -maximum_loss\n",
    "    "
   ]
  },
  {
   "cell_type": "code",
   "execution_count": 36,
   "metadata": {},
   "outputs": [],
   "source": [
    "def si_snr(y_hat, y):\n",
    "    loss = 0\n",
    "    for prediction in y_hat:\n",
    "        loss += si_snr_2speaker(prediction.squeeze(0), y)\n",
    "    \n",
    "    return loss"
   ]
  },
  {
   "cell_type": "code",
   "execution_count": 27,
   "metadata": {},
   "outputs": [],
   "source": [
    "m = Facebookmodel(64, 178, 181, b = 1)"
   ]
  },
  {
   "cell_type": "code",
   "execution_count": 28,
   "metadata": {},
   "outputs": [],
   "source": [
    "r = m(audio_input)"
   ]
  },
  {
   "cell_type": "code",
   "execution_count": 29,
   "metadata": {},
   "outputs": [],
   "source": [
    "audio_input1, s_rate = torchaudio.load('/home/minds/Desktop/test_speech_mix/generated/speaker/id10009/7hpSiT9_gCE/0.wav', normalization=True)\n",
    "audio_input2, s_rate = torchaudio.load('/home/minds/Desktop/test_speech_mix/generated/speaker/id10009/7hpSiT9_gCE/0.wav', normalization=True)"
   ]
  },
  {
   "cell_type": "code",
   "execution_count": 30,
   "metadata": {},
   "outputs": [
    {
     "data": {
      "text/plain": [
       "torch.Size([2, 64000])"
      ]
     },
     "execution_count": 30,
     "metadata": {},
     "output_type": "execute_result"
    }
   ],
   "source": [
    "target = torch.cat((audio_input1, audio_input2), 0)\n",
    "target.shape"
   ]
  },
  {
   "cell_type": "code",
   "execution_count": 31,
   "metadata": {},
   "outputs": [
    {
     "data": {
      "text/plain": [
       "torch.Size([1, 2, 64000])"
      ]
     },
     "execution_count": 31,
     "metadata": {},
     "output_type": "execute_result"
    }
   ],
   "source": [
    "r[0].shape"
   ]
  },
  {
   "cell_type": "code",
   "execution_count": 33,
   "metadata": {},
   "outputs": [],
   "source": [
    "loss = apply_snr(r, target)"
   ]
  },
  {
   "cell_type": "code",
   "execution_count": 35,
   "metadata": {},
   "outputs": [],
   "source": [
    "loss.backward()"
   ]
  },
  {
   "cell_type": "code",
   "execution_count": null,
   "metadata": {},
   "outputs": [],
   "source": []
  }
 ],
 "metadata": {
  "kernelspec": {
   "display_name": "Python 3",
   "language": "python",
   "name": "python3"
  },
  "language_info": {
   "codemirror_mode": {
    "name": "ipython",
    "version": 3
   },
   "file_extension": ".py",
   "mimetype": "text/x-python",
   "name": "python",
   "nbconvert_exporter": "python",
   "pygments_lexer": "ipython3",
   "version": "3.7.3"
  }
 },
 "nbformat": 4,
 "nbformat_minor": 4
}
